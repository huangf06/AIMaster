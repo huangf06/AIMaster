{
 "cells": [
  {
   "cell_type": "code",
   "execution_count": null,
   "metadata": {
    "is_executing": true
   },
   "outputs": [],
   "source": [
    "from py4j.java_gateway import JavaGateway\n",
    "from itertools import combinations\n",
    "class DirectedLabeledGraph:\n",
    "    def __init__(self):\n",
    "        self.nodes = {}\n",
    "        self.edges = {}\n",
    "\n",
    "    def add_node(self, node, label=None):\n",
    "        if node not in self.nodes:\n",
    "            self.nodes[node] = set()                     \n",
    "        if label:\n",
    "            self.nodes[node].add(label)           \n",
    "\n",
    "    def add_edge(self, source, target, label):\n",
    "        if (source, target) not in self.edges:\n",
    "            self.edges[(source, target)] = set()\n",
    "        self.edges[(source, target)].add(label)\n",
    "\n",
    "    def get_node_labels(self, node):\n",
    "        return self.nodes.get(node, set())\n",
    "\n",
    "    def get_edge_labels(self, source, target):\n",
    "        return self.edges.get((source, target), set())\n",
    "\n",
    "\n",
    "class Interpretation(DirectedLabeledGraph):\n",
    "    def __init__(self):\n",
    "        super().__init__()\n",
    "        self.element_counter = 1\n",
    "\n",
    "    def add_concept_to_node(self, node, concept):\n",
    "        \"\"\"Add a concept to a node.\"\"\"\n",
    "        if node not in self.nodes:\n",
    "            self.add_node(node)\n",
    "        self.nodes[node].add(concept)       \n",
    "        return concept in self.nodes[node]\n",
    "\n",
    "    def exists_edge(self, source, role, target):\n",
    "        \"\"\"Check if there exists an edge with a specific role between two nodes.\"\"\"\n",
    "        return role in self.get_edge_labels(source, target)\n",
    "\n",
    "    def create_new_element(self, concept):\n",
    "        \"\"\"Create a new element with a specified concept.\"\"\"\n",
    "        new_element = f\"d{self.element_counter}\"\n",
    "        self.element_counter += 1\n",
    "        self.add_node(new_element, concept)        \n",
    "        return new_element"
   ]
  },
  {
   "cell_type": "code",
   "execution_count": null,
   "metadata": {
    "is_executing": true
   },
   "outputs": [],
   "source": []
  },
  {
   "cell_type": "code",
   "execution_count": null,
   "outputs": [],
   "source": [],
   "metadata": {
    "collapsed": false
   }
  }
 ],
 "metadata": {
  "kernelspec": {
   "display_name": "Python 3",
   "language": "python",
   "name": "python3"
  },
  "language_info": {
   "codemirror_mode": {
    "name": "ipython",
    "version": 3
   },
   "file_extension": ".py",
   "mimetype": "text/x-python",
   "name": "python",
   "nbconvert_exporter": "python",
   "pygments_lexer": "ipython3",
   "version": "3.12.0"
  }
 },
 "nbformat": 4,
 "nbformat_minor": 2
}
