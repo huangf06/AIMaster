{
 "cells": [
  {
   "cell_type": "code",
   "execution_count": null,
   "id": "initial_id",
   "metadata": {
    "collapsed": true
   },
   "outputs": [],
   "source": [
    "import random\n",
    "from py4j.java_gateway import JavaGateway\n",
    "from itertools import combinations"
   ]
  },
  {
   "cell_type": "code",
   "execution_count": null,
   "outputs": [],
   "source": [
    "class DirectedLabeledGraph:\n",
    "    def __init__(self):\n",
    "        self.nodes = {}\n",
    "        self.edges = {}\n",
    "\n",
    "    def add_node(self, node, label=None):\n",
    "        if node not in self.nodes:\n",
    "            self.nodes[node] = set()\n",
    "        if label:\n",
    "            self.nodes[node].add(label)\n",
    "\n",
    "    def add_edge(self, source, target, label):\n",
    "        if (source, target) not in self.edges:\n",
    "            self.edges[(source, target)] = set()\n",
    "        self.edges[(source, target)].add(label)\n",
    "\n",
    "    def get_node_labels(self, node):\n",
    "        return self.nodes.get(node, set())\n",
    "\n",
    "    def get_edge_labels(self, source, target):\n",
    "        return self.edges.get((source, target), set())\n",
    "\n",
    "\n",
    "class Interpretation(DirectedLabeledGraph):\n",
    "    def __init__(self):\n",
    "        super().__init__()\n",
    "        self.element_counter = 0\n",
    "\n",
    "    def add_concept_to_node(self, node, concept):\n",
    "        \"\"\"Add a concept to a node.\"\"\"\n",
    "        if node not in self.nodes:\n",
    "            self.add_node(node)\n",
    "        self.nodes[node].add(concept)\n",
    "        return concept in self.nodes[node]\n",
    "\n",
    "    def exists_edge(self, source, role, target):\n",
    "        \"\"\"Check if there exists an edge with a specific role between two nodes.\"\"\"\n",
    "        return role in self.get_edge_labels(source, target)\n",
    "\n",
    "    def create_new_element(self, concept):\n",
    "        \"\"\"Create a new element with a specified concept.\"\"\"\n",
    "        new_element = f\"d{self.element_counter}\"\n",
    "        self.element_counter += 1\n",
    "        self.add_node(new_element, concept)\n",
    "        return new_element"
   ],
   "metadata": {
    "collapsed": false
   },
   "id": "eaa9857540256907"
  },
  {
   "cell_type": "code",
   "execution_count": null,
   "outputs": [],
   "source": [
    "ontology_file = 'pizza.owl'\n",
    "interpretation = Interpretation()\n",
    "\n",
    "gateway = JavaGateway()\n",
    "formatter = gateway.getSimpleDLFormatter()\n",
    "elFactory = gateway.getELFactory()\n",
    "ontology = gateway.getOWLParser().parseFile(ontology_file)\n",
    "tbox = ontology.tbox()\n",
    "print(tbox.size())\n",
    "axioms = tbox.getAxioms()\n",
    "for axiom in axioms:\n",
    "    axiomType = axiom.getClass().getSimpleName()\n",
    "    if axiomType == \"EquivalenceAxiom\":\n",
    "        sides = axiom.getConcepts()\n",
    "        l2r = elFactory.getGCI(sides[0], sides[1])\n",
    "        r2l = elFactory.getGCI(sides[1], sides[0])\n",
    "        tbox.add(l2r)\n",
    "        tbox.add(r2l)\n",
    "        ontology.remove(axiom)\n",
    "    elif axiomType != \"GeneralConceptInclusion\":\n",
    "        ontology.remove(axiom)\n",
    "print(tbox.size())\n",
    "print(len(tbox.getAxioms()))"
   ],
   "metadata": {
    "collapsed": false
   },
   "id": "dfa5346753c0d0fe"
  },
  {
   "cell_type": "code",
   "execution_count": null,
   "outputs": [],
   "source": [
    "concepts_dict = {}\n",
    "conjunction_dict = {}\n",
    "existential_dict = {}\n",
    "\n",
    "for concept in ontology.getSubConcepts():\n",
    "    formatted_concept = formatter.format(concept)\n",
    "    conceptType = concept.getClass().getSimpleName()\n",
    "    concepts_dict[formatted_concept] = {\n",
    "        'concept': concept,\n",
    "        'conceptType': concept.getClass().getSimpleName()\n",
    "    }\n",
    "    if conceptType == \"ConceptConjunction\":\n",
    "        conjunction_dict[formatted_concept] = {\n",
    "            'left': formatter.format(concept.getConjuncts()[0]),\n",
    "            'right': formatter.format(concept.getConjuncts()[1])\n",
    "        }\n",
    "    if conceptType == \"ExistentialRoleRestriction\":\n",
    "        existential_dict[formatted_concept] = {\n",
    "            'role': formatter.format(concept.role()),\n",
    "            'filter': formatter.format(concept.filler())\n",
    "        }\n",
    "\n",
    "axioms_dict = {}\n",
    "\n",
    "for axiom in tbox.getAxioms():\n",
    "    lhs_formatted = formatter.format(axiom.lhs())\n",
    "    rhs_formatted = formatter.format(axiom.rhs())\n",
    "    \n",
    "    if lhs_formatted not in axioms_dict:\n",
    "        axioms_dict[lhs_formatted] = []\n",
    "\n",
    "    axioms_dict[lhs_formatted].append(rhs_formatted)"
   ],
   "metadata": {
    "collapsed": false
   },
   "id": "d2b87014e211907c"
  },
  {
   "cell_type": "code",
   "execution_count": null,
   "outputs": [],
   "source": [
    "def apply_rule_1():\n",
    "    changed = False\n",
    "    for d in interpretation.nodes:\n",
    "        if '⊤' not in interpretation.get_node_labels(d):\n",
    "            interpretation.add_concept_to_node(d,'⊤')\n",
    "            changed = True\n",
    "    return changed"
   ],
   "metadata": {
    "collapsed": false
   },
   "id": "9d9ea67c62f22512"
  },
  {
   "cell_type": "code",
   "execution_count": null,
   "outputs": [],
   "source": [
    "def apply_rule_2():\n",
    "    changed = False        \n",
    "    for d in interpretation.nodes:\n",
    "        concepts = interpretation.get_node_labels(d).copy()\n",
    "        for concept in concepts:\n",
    "            if concept in conjunction_dict.keys():\n",
    "                if conjunction_dict[concept]['left'] not in concepts:\n",
    "                    interpretation.add_concept_to_node(d, conjunction_dict[concept]['left'])\n",
    "                    changed = True\n",
    "                if conjunction_dict[concept]['right'] not in concepts:\n",
    "                    interpretation.add_concept_to_node(d, conjunction_dict[concept]['right'])\n",
    "                    changed = True\n",
    "    return changed"
   ],
   "metadata": {
    "collapsed": false
   },
   "id": "d0256c8c0c90f646"
  },
  {
   "cell_type": "code",
   "execution_count": null,
   "outputs": [],
   "source": [
    "def apply_rule_3():\n",
    "    changed = False        \n",
    "    for d in interpretation.nodes:\n",
    "        concepts = interpretation.get_node_labels(d).copy()\n",
    "        concepts.remove('⊤')\n",
    "        pairs = list(combinations(concepts,2))\n",
    "        for A, B in pairs:\n",
    "            if ('('+A+' ⊓ '+B+')' not in concepts) and ('('+B+' ⊓ '+A+')' not in concepts):\n",
    "                if '('+A+' ⊓ '+B+')' in concepts_dict.keys():\n",
    "                    interpretation.add_concept_to_node(d, '('+A+' ⊓ '+B+')')\n",
    "                    changed = True\n",
    "                elif '('+B+' ⊓ '+A+')' in concepts_dict.keys():\n",
    "                    interpretation.add_concept_to_node(d, '('+B+' ⊓ '+A+')')\n",
    "                    changed = True\n",
    "    return changed"
   ],
   "metadata": {
    "collapsed": false
   },
   "id": "698ed47a5e9551c4"
  },
  {
   "cell_type": "code",
   "execution_count": null,
   "outputs": [],
   "source": [
    "def apply_rule_4():\n",
    "    changed = False\n",
    "    for d in list(interpretation.nodes):\n",
    "        concepts = interpretation.get_node_labels(d).copy()\n",
    "        for concept in concepts & existential_dict.keys():\n",
    "            role = existential_dict[concept]['role']\n",
    "            filter = existential_dict[concept]['filter']\n",
    "            existing_successor = None\n",
    "            for (source, target), roles in interpretation.edges.items():\n",
    "                if source == d and role in roles and filter in interpretation.get_node_labels(target):\n",
    "                    existing_successor = target\n",
    "                    break\n",
    "            if not existing_successor:                            \n",
    "                new_node = interpretation.create_new_element(filter)\n",
    "                interpretation.add_edge(d, new_node, role)                \n",
    "                changed = True\n",
    "    return changed"
   ],
   "metadata": {
    "collapsed": false
   },
   "id": "277456e3fb5c4f49"
  },
  {
   "cell_type": "code",
   "execution_count": null,
   "outputs": [],
   "source": [
    "def apply_rule_5():\n",
    "    changed = False\n",
    "    for (source, target), roles in interpretation.edges.items():\n",
    "        concept_s = interpretation.get_node_labels(source)\n",
    "        concept_t = interpretation.get_node_labels(target)\n",
    "        for role in roles:\n",
    "            new_labels = set(['∃'+role+'.'+c for c in concept_t]) & concepts_dict.keys() - concept_s\n",
    "            for label in new_labels:\n",
    "                interpretation.add_concept_to_node(source, label)                \n",
    "                changed = True\n",
    "    return changed"
   ],
   "metadata": {
    "collapsed": false
   },
   "id": "c3a64400d82506d3"
  },
  {
   "cell_type": "code",
   "execution_count": null,
   "outputs": [],
   "source": [
    "def apply_rule_6():\n",
    "    changed = False\n",
    "    for d in interpretation.nodes:\n",
    "        concepts = interpretation.get_node_labels(d).copy()        \n",
    "        for concept in (concepts & axioms_dict.keys()):\n",
    "            for D in axioms_dict[concept]:\n",
    "                if D not in concepts:                \n",
    "                    interpretation.add_concept_to_node(d, D)                    \n",
    "                    changed = True\n",
    "    return changed"
   ],
   "metadata": {
    "collapsed": false
   },
   "id": "e6a793f1df2ac110"
  },
  {
   "cell_type": "code",
   "execution_count": null,
   "outputs": [],
   "source": [
    "class_name = random.choice(list(concepts_dict.keys()))\n",
    "interpretation.create_new_element(class_name)\n",
    "\n",
    "changed = True\n",
    "while changed:\n",
    "    changed = False\n",
    "    if apply_rule_1():        \n",
    "        changed = True\n",
    "    if apply_rule_2():\n",
    "        changed = True\n",
    "    if apply_rule_3():\n",
    "        changed = True\n",
    "    if apply_rule_4():\n",
    "        changed = True\n",
    "    if apply_rule_5():\n",
    "        changed = True\n",
    "    if apply_rule_6():\n",
    "        changed = True\n",
    "subsumes=interpretation.get_node_labels('d0')\n",
    "\n",
    "conceptNames = [formatter.format(c) for c in ontology.getConceptNames()]\n",
    "\n",
    "for subsume in subsumes:\n",
    "    if subsume in conceptNames:\n",
    "        print(subsume)"
   ],
   "metadata": {
    "collapsed": false
   },
   "id": "d8835adec73867f"
  },
  {
   "cell_type": "markdown",
   "source": [],
   "metadata": {
    "collapsed": false
   },
   "id": "866915a36b4226c7"
  },
  {
   "cell_type": "markdown",
   "source": [
    "Add a ELK reasoner to test the result."
   ],
   "metadata": {
    "collapsed": false
   },
   "id": "2c27369a523b362e"
  },
  {
   "cell_type": "code",
   "execution_count": null,
   "outputs": [],
   "source": [],
   "metadata": {
    "collapsed": false
   },
   "id": "e6a771d8c586b21a"
  }
 ],
 "metadata": {
  "kernelspec": {
   "display_name": "Python 3",
   "language": "python",
   "name": "python3"
  },
  "language_info": {
   "codemirror_mode": {
    "name": "ipython",
    "version": 2
   },
   "file_extension": ".py",
   "mimetype": "text/x-python",
   "name": "python",
   "nbconvert_exporter": "python",
   "pygments_lexer": "ipython2",
   "version": "2.7.6"
  }
 },
 "nbformat": 4,
 "nbformat_minor": 5
}
